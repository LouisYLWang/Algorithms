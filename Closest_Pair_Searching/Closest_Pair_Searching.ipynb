{
 "cells": [
  {
   "cell_type": "heading",
   "metadata": {
    "collapsed": true
   },
   "level": 1,
   "source": [
    " An O(nlogn)-Time Algorithm for the Closest Pair\n"
   ]
  },
  {
   "cell_type": "markdown",
   "metadata": {},
   "source": [
    "exercise by Louis YL Wang in 9/23/18"
   ]
  },
  {
   "cell_type": "markdown",
   "metadata": {},
   "source": [
    "Problem: Closest Pair \n",
    "\n",
    "Input: $n \\geq 2$ points ${p_1} =({x_1},{y_1})$,...,${p_n} =({x_n},{y_n})$ in the plane.\n",
    "\n",
    "Output: The pair ${p_i,p_j}$ of points with smallest Euclidean distance $d(p_i,p_j)$.\n"
   ]
  },
  {
   "cell_type": "markdown",
   "metadata": {},
   "source": [
    "ClosestPair <br>\n",
    "Input: two copies $P_x$ and $P_y$ of $n^2$ points in the plane, sorted by x- andy-coordinate, respectively. <br>\n",
    "Output: the pair pi,p j of distinct points with smallest Euclidean distance between them. // base case of <= 3 points omitted \n",
    "\n",
    "1 Lx := ﬁrst half of Px, sorted by x-coordinate <br>\n",
    "2 Ly := ﬁrst half of Px, sorted by y-coordinate <br>\n",
    "3 Rx := second half of Px, sorted by x-coordinate <br>\n",
    "4 Ry := second half of Px, sorted by y-coordinate <br>\n",
    "5 (l1,l2) :=ClosestPair(Lx,Ly) // best left pair <br>\n",
    "6 (r1,r2) :=ClosestPair(Rx,Ry) // best right pair <br>\n",
    "7 (s1,s2) :=ClosestSplitPair(Px,Py) // best split pair <br>\n",
    "8 return best of (l1,l2), (r1,r2), (s1,s2)\n"
   ]
  },
  {
   "cell_type": "code",
   "execution_count": 58,
   "metadata": {},
   "outputs": [],
   "source": [
    "import numpy as np\n",
    "points = [[1,2],[3,4],[5,6],[4,8],[5,9],[2,2],[4,3],[4,1],[8,2],[2,8],[9,1],[2,6],[1,9],[2,1],[1,6],[0,8]]\n",
    "array = np.asarray(points)"
   ]
  },
  {
   "cell_type": "code",
   "execution_count": 59,
   "metadata": {},
   "outputs": [
    {
     "data": {
      "image/png": "[encoded data removed]",
      "text/plain": [
       "<matplotlib.figure.Figure at 0x28c1f10b160>"
      ]
     },
     "metadata": {},
     "output_type": "display_data"
    }
   ],
   "source": [
    "\n",
    "import matplotlib.pyplot as plt\n",
    "\n",
    "fig, ax = plt.subplots()\n",
    "ax.scatter(array[:-1], array[1:])\n",
    "\n",
    "ax.set_xlabel(r'$P_x$', fontsize=15)\n",
    "ax.set_ylabel(r'$P_y$', fontsize=15)\n",
    "ax.set_title('dataset')\n",
    "\n",
    "ax.grid(True)\n",
    "fig.tight_layout()\n"
   ]
  },
  {
   "cell_type": "code",
   "execution_count": 60,
   "metadata": {},
   "outputs": [
    {
     "data": {
      "text/plain": [
       "[]"
      ]
     },
     "execution_count": 60,
     "metadata": {},
     "output_type": "execute_result"
    }
   ],
   "source": [
    "px = [[1,2]]\n",
    "halflen = len(px)//2\n",
    "np.asarray(px)[:,0].tolist()[:halflen]"
   ]
  },
  {
   "cell_type": "code",
   "execution_count": 61,
   "metadata": {},
   "outputs": [
    {
     "name": "stdout",
     "output_type": "stream",
     "text": [
      "1\n"
     ]
    }
   ],
   "source": [
    "print(3//2)"
   ]
  },
  {
   "cell_type": "code",
   "execution_count": 62,
   "metadata": {},
   "outputs": [],
   "source": []
  }
 ],
 "metadata": {
  "kernelspec": {
   "display_name": "Python 2",
   "language": "python",
   "name": "python2"
  },
  "language_info": {
   "codemirror_mode": {
    "name": "ipython",
    "version": 2
   },
   "file_extension": ".py",
   "mimetype": "text/x-python",
   "name": "python",
   "nbconvert_exporter": "python",
   "pygments_lexer": "ipython2",
   "version": "2.7.6"
  }
 },
 "nbformat": 4,
 "nbformat_minor": 0
}
